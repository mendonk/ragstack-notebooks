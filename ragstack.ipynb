{
 "cells": [
  {
   "cell_type": "markdown",
   "metadata": {},
   "source": [
    "# RAGStack and Astra vector db\n",
    "\n",
    "This notebook demonstrates a RAG pattern using RAGStack and the AstraDB vector database.\n",
    "\n",
    "The pattern is:\n",
    "\n",
    "1. Construct information base\n",
    "2. Basic retrieval\n",
    "3. Generation with augmented context\n",
    "4. Advanced retrieval and generation\n",
    "5. Evaluate quality\n"
   ]
  },
  {
   "cell_type": "markdown",
   "metadata": {},
   "source": [
    "## Setup\n",
    "RAGStack includes all the libraries you need for the RAG pattern, including the vector database, embeddings pipeline, and retrieval."
   ]
  },
  {
   "cell_type": "code",
   "execution_count": 1,
   "metadata": {},
   "outputs": [
    {
     "name": "stdout",
     "output_type": "stream",
     "text": [
      "Collecting ragstack-ai\n",
      "  Using cached ragstack_ai-0.1.0-py3-none-any.whl.metadata (1.4 kB)\n",
      "Collecting datasets\n",
      "  Using cached datasets-2.14.7-py3-none-any.whl.metadata (19 kB)\n",
      "Collecting PyYAML>=5.3 (from ragstack-ai)\n",
      "  Using cached PyYAML-6.0.1-cp311-cp311-macosx_11_0_arm64.whl.metadata (2.1 kB)\n",
      "Collecting SQLAlchemy<3,>=1.4 (from ragstack-ai)\n",
      "  Using cached SQLAlchemy-2.0.23-cp311-cp311-macosx_11_0_arm64.whl.metadata (9.6 kB)\n",
      "Collecting aiohttp<4.0.0,>=3.8.3 (from ragstack-ai)\n",
      "  Using cached aiohttp-3.8.6-cp311-cp311-macosx_11_0_arm64.whl.metadata (7.7 kB)\n",
      "Collecting anyio<4.0 (from ragstack-ai)\n",
      "  Using cached anyio-3.7.1-py3-none-any.whl.metadata (4.7 kB)\n",
      "Collecting astrapy==0.5.8 (from ragstack-ai)\n",
      "  Using cached astrapy-0.5.8-py3-none-any.whl.metadata (11 kB)\n",
      "Collecting dataclasses-json<0.7,>=0.5.7 (from ragstack-ai)\n",
      "  Using cached dataclasses_json-0.6.2-py3-none-any.whl.metadata (25 kB)\n",
      "Collecting jsonpatch<2.0,>=1.33 (from ragstack-ai)\n",
      "  Using cached jsonpatch-1.33-py2.py3-none-any.whl.metadata (3.0 kB)\n",
      "Collecting numpy<2,>=1 (from ragstack-ai)\n",
      "  Using cached numpy-1.26.2-cp311-cp311-macosx_11_0_arm64.whl.metadata (115 kB)\n",
      "Collecting openai<1,>=0 (from ragstack-ai)\n",
      "  Using cached openai-0.28.1-py3-none-any.whl.metadata (11 kB)\n",
      "Collecting pydantic<3,>=1 (from ragstack-ai)\n",
      "  Using cached pydantic-2.5.1-py3-none-any.whl.metadata (64 kB)\n",
      "Collecting pytest-subtests<0.12.0,>=0.11.0 (from ragstack-ai)\n",
      "  Using cached pytest_subtests-0.11.0-py3-none-any.whl.metadata (6.2 kB)\n",
      "Collecting requests<3,>=2 (from ragstack-ai)\n",
      "  Using cached requests-2.31.0-py3-none-any.whl.metadata (4.6 kB)\n",
      "Collecting tenacity<9.0.0,>=8.1.0 (from ragstack-ai)\n",
      "  Using cached tenacity-8.2.3-py3-none-any.whl.metadata (1.0 kB)\n",
      "Collecting tiktoken<0.6.0,>=0.3.2 (from ragstack-ai)\n",
      "  Using cached tiktoken-0.5.1-cp311-cp311-macosx_11_0_arm64.whl.metadata (6.6 kB)\n",
      "Collecting faker~=19.11.0 (from astrapy==0.5.8->ragstack-ai)\n",
      "  Using cached Faker-19.11.1-py3-none-any.whl.metadata (15 kB)\n",
      "Collecting pytest~=7.4.2 (from astrapy==0.5.8->ragstack-ai)\n",
      "  Using cached pytest-7.4.3-py3-none-any.whl.metadata (7.9 kB)\n",
      "Collecting pytest-cov~=4.1.0 (from astrapy==0.5.8->ragstack-ai)\n",
      "  Using cached pytest_cov-4.1.0-py3-none-any.whl.metadata (26 kB)\n",
      "Collecting pytest-testdox~=3.1.0 (from astrapy==0.5.8->ragstack-ai)\n",
      "  Using cached pytest_testdox-3.1.0-py2.py3-none-any.whl.metadata (3.9 kB)\n",
      "Collecting requests-toolbelt~=1.0.0 (from astrapy==0.5.8->ragstack-ai)\n",
      "  Using cached requests_toolbelt-1.0.0-py2.py3-none-any.whl (54 kB)\n",
      "Collecting python-dotenv~=1.0.0 (from astrapy==0.5.8->ragstack-ai)\n",
      "  Using cached python_dotenv-1.0.0-py3-none-any.whl (19 kB)\n",
      "Collecting pre-commit~=3.5.0 (from astrapy==0.5.8->ragstack-ai)\n",
      "  Using cached pre_commit-3.5.0-py2.py3-none-any.whl.metadata (1.3 kB)\n",
      "Collecting cassio~=0.1.3 (from astrapy==0.5.8->ragstack-ai)\n",
      "  Using cached cassio-0.1.3-py3-none-any.whl.metadata (4.5 kB)\n",
      "Collecting pyarrow>=8.0.0 (from datasets)\n",
      "  Using cached pyarrow-14.0.1-cp311-cp311-macosx_11_0_arm64.whl.metadata (3.0 kB)\n",
      "Collecting pyarrow-hotfix (from datasets)\n",
      "  Using cached pyarrow_hotfix-0.5-py3-none-any.whl.metadata (3.6 kB)\n",
      "Collecting dill<0.3.8,>=0.3.0 (from datasets)\n",
      "  Using cached dill-0.3.7-py3-none-any.whl.metadata (9.9 kB)\n",
      "Collecting pandas (from datasets)\n",
      "  Using cached pandas-2.1.3-cp311-cp311-macosx_11_0_arm64.whl.metadata (18 kB)\n",
      "Collecting tqdm>=4.62.1 (from datasets)\n",
      "  Using cached tqdm-4.66.1-py3-none-any.whl.metadata (57 kB)\n",
      "Collecting xxhash (from datasets)\n",
      "  Using cached xxhash-3.4.1-cp311-cp311-macosx_11_0_arm64.whl.metadata (12 kB)\n",
      "Collecting multiprocess (from datasets)\n",
      "  Using cached multiprocess-0.70.15-py311-none-any.whl.metadata (7.2 kB)\n",
      "Collecting fsspec<=2023.10.0,>=2023.1.0 (from fsspec[http]<=2023.10.0,>=2023.1.0->datasets)\n",
      "  Using cached fsspec-2023.10.0-py3-none-any.whl.metadata (6.8 kB)\n",
      "Collecting huggingface-hub<1.0.0,>=0.14.0 (from datasets)\n",
      "  Using cached huggingface_hub-0.19.3-py3-none-any.whl.metadata (14 kB)\n",
      "Requirement already satisfied: packaging in /Users/mendon.kissling/Library/Python/3.11/lib/python/site-packages (from datasets) (23.2)\n",
      "Collecting attrs>=17.3.0 (from aiohttp<4.0.0,>=3.8.3->ragstack-ai)\n",
      "  Using cached attrs-23.1.0-py3-none-any.whl (61 kB)\n",
      "Collecting charset-normalizer<4.0,>=2.0 (from aiohttp<4.0.0,>=3.8.3->ragstack-ai)\n",
      "  Using cached charset_normalizer-3.3.2-cp311-cp311-macosx_11_0_arm64.whl.metadata (33 kB)\n",
      "Collecting multidict<7.0,>=4.5 (from aiohttp<4.0.0,>=3.8.3->ragstack-ai)\n",
      "  Using cached multidict-6.0.4-cp311-cp311-macosx_11_0_arm64.whl (29 kB)\n",
      "Collecting async-timeout<5.0,>=4.0.0a3 (from aiohttp<4.0.0,>=3.8.3->ragstack-ai)\n",
      "  Using cached async_timeout-4.0.3-py3-none-any.whl.metadata (4.2 kB)\n",
      "Collecting yarl<2.0,>=1.0 (from aiohttp<4.0.0,>=3.8.3->ragstack-ai)\n",
      "  Using cached yarl-1.9.2-cp311-cp311-macosx_11_0_arm64.whl (61 kB)\n",
      "Collecting frozenlist>=1.1.1 (from aiohttp<4.0.0,>=3.8.3->ragstack-ai)\n",
      "  Using cached frozenlist-1.4.0-cp311-cp311-macosx_11_0_arm64.whl.metadata (5.2 kB)\n",
      "Collecting aiosignal>=1.1.2 (from aiohttp<4.0.0,>=3.8.3->ragstack-ai)\n",
      "  Using cached aiosignal-1.3.1-py3-none-any.whl (7.6 kB)\n",
      "Collecting idna>=2.8 (from anyio<4.0->ragstack-ai)\n",
      "  Using cached idna-3.4-py3-none-any.whl (61 kB)\n",
      "Collecting sniffio>=1.1 (from anyio<4.0->ragstack-ai)\n",
      "  Using cached sniffio-1.3.0-py3-none-any.whl (10 kB)\n",
      "Collecting marshmallow<4.0.0,>=3.18.0 (from dataclasses-json<0.7,>=0.5.7->ragstack-ai)\n",
      "  Using cached marshmallow-3.20.1-py3-none-any.whl.metadata (7.8 kB)\n",
      "Collecting typing-inspect<1,>=0.4.0 (from dataclasses-json<0.7,>=0.5.7->ragstack-ai)\n",
      "  Using cached typing_inspect-0.9.0-py3-none-any.whl.metadata (1.5 kB)\n",
      "Collecting filelock (from huggingface-hub<1.0.0,>=0.14.0->datasets)\n",
      "  Using cached filelock-3.13.1-py3-none-any.whl.metadata (2.8 kB)\n",
      "Collecting typing-extensions>=3.7.4.3 (from huggingface-hub<1.0.0,>=0.14.0->datasets)\n",
      "  Using cached typing_extensions-4.8.0-py3-none-any.whl.metadata (3.0 kB)\n",
      "Collecting jsonpointer>=1.9 (from jsonpatch<2.0,>=1.33->ragstack-ai)\n",
      "  Using cached jsonpointer-2.4-py2.py3-none-any.whl.metadata (2.5 kB)\n",
      "Collecting annotated-types>=0.4.0 (from pydantic<3,>=1->ragstack-ai)\n",
      "  Using cached annotated_types-0.6.0-py3-none-any.whl.metadata (12 kB)\n",
      "Collecting pydantic-core==2.14.3 (from pydantic<3,>=1->ragstack-ai)\n",
      "  Using cached pydantic_core-2.14.3-cp311-cp311-macosx_11_0_arm64.whl.metadata (6.5 kB)\n",
      "Collecting urllib3<3,>=1.21.1 (from requests<3,>=2->ragstack-ai)\n",
      "  Using cached urllib3-2.1.0-py3-none-any.whl.metadata (6.4 kB)\n",
      "Collecting certifi>=2017.4.17 (from requests<3,>=2->ragstack-ai)\n",
      "  Using cached certifi-2023.7.22-py3-none-any.whl.metadata (2.2 kB)\n",
      "Collecting regex>=2022.1.18 (from tiktoken<0.6.0,>=0.3.2->ragstack-ai)\n",
      "  Using cached regex-2023.10.3-cp311-cp311-macosx_11_0_arm64.whl.metadata (40 kB)\n",
      "Requirement already satisfied: python-dateutil>=2.8.2 in /Users/mendon.kissling/Library/Python/3.11/lib/python/site-packages (from pandas->datasets) (2.8.2)\n",
      "Collecting pytz>=2020.1 (from pandas->datasets)\n",
      "  Using cached pytz-2023.3.post1-py2.py3-none-any.whl.metadata (22 kB)\n",
      "Collecting tzdata>=2022.1 (from pandas->datasets)\n",
      "  Using cached tzdata-2023.3-py2.py3-none-any.whl (341 kB)\n",
      "Collecting cassandra-driver>=3.28.0 (from cassio~=0.1.3->astrapy==0.5.8->ragstack-ai)\n",
      "  Using cached cassandra_driver-3.28.0-cp311-cp311-macosx_11_0_arm64.whl.metadata (5.8 kB)\n",
      "Collecting cfgv>=2.0.0 (from pre-commit~=3.5.0->astrapy==0.5.8->ragstack-ai)\n",
      "  Using cached cfgv-3.4.0-py2.py3-none-any.whl.metadata (8.5 kB)\n",
      "Collecting identify>=1.0.0 (from pre-commit~=3.5.0->astrapy==0.5.8->ragstack-ai)\n",
      "  Using cached identify-2.5.31-py2.py3-none-any.whl.metadata (4.4 kB)\n",
      "Collecting nodeenv>=0.11.1 (from pre-commit~=3.5.0->astrapy==0.5.8->ragstack-ai)\n",
      "  Using cached nodeenv-1.8.0-py2.py3-none-any.whl.metadata (21 kB)\n",
      "Collecting virtualenv>=20.10.0 (from pre-commit~=3.5.0->astrapy==0.5.8->ragstack-ai)\n",
      "  Using cached virtualenv-20.24.6-py3-none-any.whl.metadata (4.5 kB)\n",
      "Collecting iniconfig (from pytest~=7.4.2->astrapy==0.5.8->ragstack-ai)\n",
      "  Using cached iniconfig-2.0.0-py3-none-any.whl (5.9 kB)\n",
      "Collecting pluggy<2.0,>=0.12 (from pytest~=7.4.2->astrapy==0.5.8->ragstack-ai)\n",
      "  Using cached pluggy-1.3.0-py3-none-any.whl.metadata (4.3 kB)\n",
      "Collecting coverage>=5.2.1 (from coverage[toml]>=5.2.1->pytest-cov~=4.1.0->astrapy==0.5.8->ragstack-ai)\n",
      "  Using cached coverage-7.3.2-cp311-cp311-macosx_11_0_arm64.whl.metadata (8.1 kB)\n",
      "Requirement already satisfied: six>=1.5 in /Users/mendon.kissling/Library/Python/3.11/lib/python/site-packages (from python-dateutil>=2.8.2->pandas->datasets) (1.16.0)\n",
      "Collecting mypy-extensions>=0.3.0 (from typing-inspect<1,>=0.4.0->dataclasses-json<0.7,>=0.5.7->ragstack-ai)\n",
      "  Using cached mypy_extensions-1.0.0-py3-none-any.whl (4.7 kB)\n",
      "Collecting geomet<0.3,>=0.1 (from cassandra-driver>=3.28.0->cassio~=0.1.3->astrapy==0.5.8->ragstack-ai)\n",
      "  Using cached geomet-0.2.1.post1-py3-none-any.whl (18 kB)\n",
      "Requirement already satisfied: setuptools in /opt/homebrew/lib/python3.11/site-packages (from nodeenv>=0.11.1->pre-commit~=3.5.0->astrapy==0.5.8->ragstack-ai) (68.2.2)\n",
      "Collecting distlib<1,>=0.3.7 (from virtualenv>=20.10.0->pre-commit~=3.5.0->astrapy==0.5.8->ragstack-ai)\n",
      "  Using cached distlib-0.3.7-py2.py3-none-any.whl.metadata (5.1 kB)\n",
      "Collecting platformdirs<4,>=3.9.1 (from virtualenv>=20.10.0->pre-commit~=3.5.0->astrapy==0.5.8->ragstack-ai)\n",
      "  Using cached platformdirs-3.11.0-py3-none-any.whl.metadata (11 kB)\n",
      "Collecting click (from geomet<0.3,>=0.1->cassandra-driver>=3.28.0->cassio~=0.1.3->astrapy==0.5.8->ragstack-ai)\n",
      "  Using cached click-8.1.7-py3-none-any.whl.metadata (3.0 kB)\n",
      "Using cached ragstack_ai-0.1.0-py3-none-any.whl (2.0 MB)\n",
      "Using cached astrapy-0.5.8-py3-none-any.whl (18 kB)\n",
      "Using cached datasets-2.14.7-py3-none-any.whl (520 kB)\n",
      "Using cached aiohttp-3.8.6-cp311-cp311-macosx_11_0_arm64.whl (343 kB)\n",
      "Using cached anyio-3.7.1-py3-none-any.whl (80 kB)\n",
      "Using cached dataclasses_json-0.6.2-py3-none-any.whl (28 kB)\n",
      "Using cached dill-0.3.7-py3-none-any.whl (115 kB)\n",
      "Using cached fsspec-2023.10.0-py3-none-any.whl (166 kB)\n",
      "Using cached huggingface_hub-0.19.3-py3-none-any.whl (311 kB)\n",
      "Using cached jsonpatch-1.33-py2.py3-none-any.whl (12 kB)\n",
      "Using cached numpy-1.26.2-cp311-cp311-macosx_11_0_arm64.whl (14.0 MB)\n",
      "Using cached openai-0.28.1-py3-none-any.whl (76 kB)\n",
      "Using cached pyarrow-14.0.1-cp311-cp311-macosx_11_0_arm64.whl (24.0 MB)\n",
      "Using cached pydantic-2.5.1-py3-none-any.whl (381 kB)\n",
      "Using cached pydantic_core-2.14.3-cp311-cp311-macosx_11_0_arm64.whl (1.7 MB)\n",
      "Using cached pytest_subtests-0.11.0-py3-none-any.whl (6.7 kB)\n",
      "Using cached PyYAML-6.0.1-cp311-cp311-macosx_11_0_arm64.whl (167 kB)\n",
      "Using cached requests-2.31.0-py3-none-any.whl (62 kB)\n",
      "Using cached SQLAlchemy-2.0.23-cp311-cp311-macosx_11_0_arm64.whl (2.1 MB)\n",
      "Using cached tenacity-8.2.3-py3-none-any.whl (24 kB)\n",
      "Using cached tiktoken-0.5.1-cp311-cp311-macosx_11_0_arm64.whl (924 kB)\n",
      "Using cached tqdm-4.66.1-py3-none-any.whl (78 kB)\n",
      "Using cached multiprocess-0.70.15-py311-none-any.whl (135 kB)\n",
      "Using cached pandas-2.1.3-cp311-cp311-macosx_11_0_arm64.whl (10.8 MB)\n",
      "Using cached pyarrow_hotfix-0.5-py3-none-any.whl (7.8 kB)\n",
      "Using cached xxhash-3.4.1-cp311-cp311-macosx_11_0_arm64.whl (30 kB)\n",
      "Using cached annotated_types-0.6.0-py3-none-any.whl (12 kB)\n",
      "Using cached async_timeout-4.0.3-py3-none-any.whl (5.7 kB)\n",
      "Using cached cassio-0.1.3-py3-none-any.whl (40 kB)\n",
      "Using cached certifi-2023.7.22-py3-none-any.whl (158 kB)\n",
      "Using cached charset_normalizer-3.3.2-cp311-cp311-macosx_11_0_arm64.whl (118 kB)\n",
      "Using cached Faker-19.11.1-py3-none-any.whl (1.7 MB)\n",
      "Using cached frozenlist-1.4.0-cp311-cp311-macosx_11_0_arm64.whl (46 kB)\n",
      "Using cached jsonpointer-2.4-py2.py3-none-any.whl (7.8 kB)\n",
      "Using cached marshmallow-3.20.1-py3-none-any.whl (49 kB)\n",
      "Using cached pre_commit-3.5.0-py2.py3-none-any.whl (203 kB)\n",
      "Using cached pytest-7.4.3-py3-none-any.whl (325 kB)\n",
      "Using cached pytest_cov-4.1.0-py3-none-any.whl (21 kB)\n",
      "Using cached pytest_testdox-3.1.0-py2.py3-none-any.whl (9.0 kB)\n",
      "Using cached pytz-2023.3.post1-py2.py3-none-any.whl (502 kB)\n",
      "Using cached regex-2023.10.3-cp311-cp311-macosx_11_0_arm64.whl (291 kB)\n",
      "Using cached typing_extensions-4.8.0-py3-none-any.whl (31 kB)\n",
      "Using cached typing_inspect-0.9.0-py3-none-any.whl (8.8 kB)\n",
      "Using cached urllib3-2.1.0-py3-none-any.whl (104 kB)\n",
      "Using cached filelock-3.13.1-py3-none-any.whl (11 kB)\n",
      "Using cached cassandra_driver-3.28.0-cp311-cp311-macosx_11_0_arm64.whl (3.3 MB)\n",
      "Using cached cfgv-3.4.0-py2.py3-none-any.whl (7.2 kB)\n",
      "Using cached coverage-7.3.2-cp311-cp311-macosx_11_0_arm64.whl (200 kB)\n",
      "Using cached identify-2.5.31-py2.py3-none-any.whl (98 kB)\n",
      "Using cached nodeenv-1.8.0-py2.py3-none-any.whl (22 kB)\n",
      "Using cached pluggy-1.3.0-py3-none-any.whl (18 kB)\n",
      "Using cached virtualenv-20.24.6-py3-none-any.whl (3.8 MB)\n",
      "Using cached distlib-0.3.7-py2.py3-none-any.whl (468 kB)\n",
      "Using cached platformdirs-3.11.0-py3-none-any.whl (17 kB)\n",
      "Using cached click-8.1.7-py3-none-any.whl (97 kB)\n",
      "Installing collected packages: pytz, distlib, xxhash, urllib3, tzdata, typing-extensions, tqdm, tenacity, sniffio, regex, PyYAML, python-dotenv, pyarrow-hotfix, pluggy, platformdirs, numpy, nodeenv, mypy-extensions, multidict, marshmallow, jsonpointer, iniconfig, idna, identify, fsspec, frozenlist, filelock, dill, coverage, click, charset-normalizer, cfgv, certifi, attrs, async-timeout, annotated-types, yarl, virtualenv, typing-inspect, SQLAlchemy, requests, pytest, pydantic-core, pyarrow, pandas, multiprocess, jsonpatch, geomet, faker, anyio, aiosignal, tiktoken, requests-toolbelt, pytest-testdox, pytest-subtests, pytest-cov, pydantic, pre-commit, huggingface-hub, dataclasses-json, cassandra-driver, aiohttp, openai, cassio, datasets, astrapy, ragstack-ai\n",
      "  Attempting uninstall: platformdirs\n",
      "    Found existing installation: platformdirs 4.0.0\n",
      "    Uninstalling platformdirs-4.0.0:\n",
      "      Successfully uninstalled platformdirs-4.0.0\n",
      "Successfully installed PyYAML-6.0.1 SQLAlchemy-2.0.23 aiohttp-3.8.6 aiosignal-1.3.1 annotated-types-0.6.0 anyio-3.7.1 astrapy-0.5.8 async-timeout-4.0.3 attrs-23.1.0 cassandra-driver-3.28.0 cassio-0.1.3 certifi-2023.7.22 cfgv-3.4.0 charset-normalizer-3.3.2 click-8.1.7 coverage-7.3.2 dataclasses-json-0.6.2 datasets-2.14.7 dill-0.3.7 distlib-0.3.7 faker-19.11.1 filelock-3.13.1 frozenlist-1.4.0 fsspec-2023.10.0 geomet-0.2.1.post1 huggingface-hub-0.19.3 identify-2.5.31 idna-3.4 iniconfig-2.0.0 jsonpatch-1.33 jsonpointer-2.4 marshmallow-3.20.1 multidict-6.0.4 multiprocess-0.70.15 mypy-extensions-1.0.0 nodeenv-1.8.0 numpy-1.26.2 openai-0.28.1 pandas-2.1.3 platformdirs-3.11.0 pluggy-1.3.0 pre-commit-3.5.0 pyarrow-14.0.1 pyarrow-hotfix-0.5 pydantic-2.5.1 pydantic-core-2.14.3 pytest-7.4.3 pytest-cov-4.1.0 pytest-subtests-0.11.0 pytest-testdox-3.1.0 python-dotenv-1.0.0 pytz-2023.3.post1 ragstack-ai-0.1.0 regex-2023.10.3 requests-2.31.0 requests-toolbelt-1.0.0 sniffio-1.3.0 tenacity-8.2.3 tiktoken-0.5.1 tqdm-4.66.1 typing-extensions-4.8.0 typing-inspect-0.9.0 tzdata-2023.3 urllib3-2.1.0 virtualenv-20.24.6 xxhash-3.4.1 yarl-1.9.2\n"
     ]
    }
   ],
   "source": [
    "!pip3 install ragstack-ai datasets"
   ]
  },
  {
   "cell_type": "markdown",
   "metadata": {},
   "source": [
    "Import the necessary dependencies:"
   ]
  },
  {
   "cell_type": "code",
   "execution_count": 2,
   "metadata": {},
   "outputs": [
    {
     "name": "stderr",
     "output_type": "stream",
     "text": [
      "/opt/homebrew/lib/python3.11/site-packages/tqdm/auto.py:21: TqdmWarning: IProgress not found. Please update jupyter and ipywidgets. See https://ipywidgets.readthedocs.io/en/stable/user_install.html\n",
      "  from .autonotebook import tqdm as notebook_tqdm\n"
     ]
    }
   ],
   "source": [
    "import getpass\n",
    "from datasets import load_dataset\n",
    "from langchain.vectorstores.astradb import AstraDB \n",
    "from langchain.embeddings import OpenAIEmbeddings\n",
    "from langchain.schema import Document"
   ]
  },
  {
   "cell_type": "markdown",
   "metadata": {},
   "source": [
    "Enter your environment variables:"
   ]
  },
  {
   "cell_type": "code",
   "execution_count": 3,
   "metadata": {},
   "outputs": [],
   "source": [
    "astra_token = getpass.getpass(\"Astra token:\")\n",
    "astra_endpoint = getpass.getpass(\"Astra db endpoint:\")\n",
    "openai_key = getpass.getpass(\"OpenAI Key:\")\n",
    "collection = getpass.getpass(\"Collection name:\")"
   ]
  },
  {
   "cell_type": "markdown",
   "metadata": {},
   "source": [
    "## RAG workflow\n",
    "\n",
    "With your environment set up, you're ready to create a RAG workflow."
   ]
  },
  {
   "cell_type": "markdown",
   "metadata": {},
   "source": [
    "### Construct information base\n",
    "\n",
    "Declare the embeddings model you'll use and define its required parameters."
   ]
  },
  {
   "cell_type": "code",
   "execution_count": 4,
   "metadata": {},
   "outputs": [
    {
     "name": "stdout",
     "output_type": "stream",
     "text": [
      "Astra configured\n"
     ]
    }
   ],
   "source": [
    "embedding = OpenAIEmbeddings(openai_api_key=openai_key)\n",
    "vstore = AstraDB(\n",
    "        collection_name=collection,\n",
    "        embedding=embedding,\n",
    "        token=astra_token,\n",
    "        api_endpoint=astra_endpoint\n",
    "    )\n",
    "print(\"Astra configured\")"
   ]
  },
  {
   "cell_type": "markdown",
   "metadata": {},
   "source": [
    "Load a small dataset of quotes with the Python dataset module."
   ]
  },
  {
   "cell_type": "code",
   "execution_count": 5,
   "metadata": {},
   "outputs": [
    {
     "name": "stdout",
     "output_type": "stream",
     "text": [
      "An example entry:\n",
      "{'author': 'aristotle', 'quote': 'Love well, be loved and do something of value.', 'tags': 'love;ethics'}\n"
     ]
    }
   ],
   "source": [
    "philo_dataset = load_dataset(\"datastax/philosopher-quotes\")[\"train\"]\n",
    "print(\"An example entry:\")\n",
    "print(philo_dataset[16])"
   ]
  },
  {
   "cell_type": "markdown",
   "metadata": {},
   "source": [
    "Process metadata and convert:"
   ]
  },
  {
   "cell_type": "code",
   "execution_count": 6,
   "metadata": {},
   "outputs": [],
   "source": [
    "docs = []\n",
    "for entry in philo_dataset:\n",
    "    metadata = {\"author\": entry[\"author\"]}\n",
    "    if entry[\"tags\"]:\n",
    "        # Add metadata tags to the metadata dictionary\n",
    "        for tag in entry[\"tags\"].split(\";\"):\n",
    "            metadata[tag] = \"y\"\n",
    "    # Add a LangChain document with the quote and metadata tags\n",
    "    doc = Document(page_content=entry[\"quote\"], metadata=metadata)\n",
    "    docs.append(doc)"
   ]
  },
  {
   "cell_type": "markdown",
   "metadata": {},
   "source": [
    "Compute embeddings:"
   ]
  },
  {
   "cell_type": "code",
   "execution_count": 7,
   "metadata": {},
   "outputs": [
    {
     "name": "stdout",
     "output_type": "stream",
     "text": [
      "\n",
      "Inserted 450 documents.\n"
     ]
    }
   ],
   "source": [
    "inserted_ids = vstore.add_documents(docs)\n",
    "print(f\"\\nInserted {len(inserted_ids)} documents.\")"
   ]
  },
  {
   "cell_type": "markdown",
   "metadata": {},
   "source": [
    "### Basic retrieval\n",
    "\n"
   ]
  },
  {
   "cell_type": "code",
   "execution_count": 8,
   "metadata": {},
   "outputs": [],
   "source": [
    "retriever = vstore.as_retriever()"
   ]
  }
 ],
 "metadata": {
  "kernelspec": {
   "display_name": "Python 3",
   "language": "python",
   "name": "python3"
  },
  "language_info": {
   "codemirror_mode": {
    "name": "ipython",
    "version": 3
   },
   "file_extension": ".py",
   "mimetype": "text/x-python",
   "name": "python",
   "nbconvert_exporter": "python",
   "pygments_lexer": "ipython3",
   "version": "3.11.6"
  }
 },
 "nbformat": 4,
 "nbformat_minor": 2
}
