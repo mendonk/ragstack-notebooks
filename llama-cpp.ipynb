{
 "cells": [
  {
   "cell_type": "markdown",
   "metadata": {},
   "source": [
    "# Llama-cpp-python\n",
    "\n",
    "Create a local Llama2 server, embed documents, and chat with them."
   ]
  },
  {
   "cell_type": "markdown",
   "metadata": {},
   "source": [
    "Install RAGStack and additional dependencies."
   ]
  },
  {
   "cell_type": "code",
   "execution_count": 8,
   "metadata": {},
   "outputs": [
    {
     "name": "stdout",
     "output_type": "stream",
     "text": [
      "Requirement already satisfied: ragstack-ai in ./.venv/lib/python3.11/site-packages (0.1.0)\n",
      "Requirement already satisfied: sentence_transformers in ./.venv/lib/python3.11/site-packages (2.2.2)\n",
      "Requirement already satisfied: llama-cpp-python in ./.venv/lib/python3.11/site-packages (0.2.18)\n",
      "Requirement already satisfied: PyYAML>=5.3 in ./.venv/lib/python3.11/site-packages (from ragstack-ai) (6.0.1)\n",
      "Requirement already satisfied: SQLAlchemy<3,>=1.4 in ./.venv/lib/python3.11/site-packages (from ragstack-ai) (2.0.23)\n",
      "Requirement already satisfied: aiohttp<4.0.0,>=3.8.3 in ./.venv/lib/python3.11/site-packages (from ragstack-ai) (3.9.0)\n",
      "Requirement already satisfied: anyio<4.0 in ./.venv/lib/python3.11/site-packages (from ragstack-ai) (3.7.1)\n",
      "Requirement already satisfied: astrapy==0.5.8 in ./.venv/lib/python3.11/site-packages (from ragstack-ai) (0.5.8)\n",
      "Requirement already satisfied: dataclasses-json<0.7,>=0.5.7 in ./.venv/lib/python3.11/site-packages (from ragstack-ai) (0.6.2)\n",
      "Requirement already satisfied: jsonpatch<2.0,>=1.33 in ./.venv/lib/python3.11/site-packages (from ragstack-ai) (1.33)\n",
      "Requirement already satisfied: numpy<2,>=1 in ./.venv/lib/python3.11/site-packages (from ragstack-ai) (1.26.2)\n",
      "Requirement already satisfied: openai<1,>=0 in ./.venv/lib/python3.11/site-packages (from ragstack-ai) (0.28.1)\n",
      "Requirement already satisfied: pydantic<3,>=1 in ./.venv/lib/python3.11/site-packages (from ragstack-ai) (2.5.1)\n",
      "Requirement already satisfied: pytest-subtests<0.12.0,>=0.11.0 in ./.venv/lib/python3.11/site-packages (from ragstack-ai) (0.11.0)\n",
      "Requirement already satisfied: requests<3,>=2 in ./.venv/lib/python3.11/site-packages (from ragstack-ai) (2.31.0)\n",
      "Requirement already satisfied: tenacity<9.0.0,>=8.1.0 in ./.venv/lib/python3.11/site-packages (from ragstack-ai) (8.2.3)\n",
      "Requirement already satisfied: tiktoken<0.6.0,>=0.3.2 in ./.venv/lib/python3.11/site-packages (from ragstack-ai) (0.5.1)\n",
      "Requirement already satisfied: faker~=19.11.0 in ./.venv/lib/python3.11/site-packages (from astrapy==0.5.8->ragstack-ai) (19.11.1)\n",
      "Requirement already satisfied: pytest~=7.4.2 in ./.venv/lib/python3.11/site-packages (from astrapy==0.5.8->ragstack-ai) (7.4.3)\n",
      "Requirement already satisfied: pytest-cov~=4.1.0 in ./.venv/lib/python3.11/site-packages (from astrapy==0.5.8->ragstack-ai) (4.1.0)\n",
      "Requirement already satisfied: pytest-testdox~=3.1.0 in ./.venv/lib/python3.11/site-packages (from astrapy==0.5.8->ragstack-ai) (3.1.0)\n",
      "Requirement already satisfied: requests-toolbelt~=1.0.0 in ./.venv/lib/python3.11/site-packages (from astrapy==0.5.8->ragstack-ai) (1.0.0)\n",
      "Requirement already satisfied: python-dotenv~=1.0.0 in ./.venv/lib/python3.11/site-packages (from astrapy==0.5.8->ragstack-ai) (1.0.0)\n",
      "Requirement already satisfied: pre-commit~=3.5.0 in ./.venv/lib/python3.11/site-packages (from astrapy==0.5.8->ragstack-ai) (3.5.0)\n",
      "Requirement already satisfied: cassio~=0.1.3 in ./.venv/lib/python3.11/site-packages (from astrapy==0.5.8->ragstack-ai) (0.1.3)\n",
      "Requirement already satisfied: transformers<5.0.0,>=4.6.0 in ./.venv/lib/python3.11/site-packages (from sentence_transformers) (4.35.2)\n",
      "Requirement already satisfied: tqdm in ./.venv/lib/python3.11/site-packages (from sentence_transformers) (4.66.1)\n",
      "Requirement already satisfied: torch>=1.6.0 in ./.venv/lib/python3.11/site-packages (from sentence_transformers) (2.1.1)\n",
      "Requirement already satisfied: torchvision in ./.venv/lib/python3.11/site-packages (from sentence_transformers) (0.16.1)\n",
      "Requirement already satisfied: scikit-learn in ./.venv/lib/python3.11/site-packages (from sentence_transformers) (1.3.2)\n",
      "Requirement already satisfied: scipy in ./.venv/lib/python3.11/site-packages (from sentence_transformers) (1.11.4)\n",
      "Requirement already satisfied: nltk in ./.venv/lib/python3.11/site-packages (from sentence_transformers) (3.8.1)\n",
      "Requirement already satisfied: sentencepiece in ./.venv/lib/python3.11/site-packages (from sentence_transformers) (0.1.99)\n",
      "Requirement already satisfied: huggingface-hub>=0.4.0 in ./.venv/lib/python3.11/site-packages (from sentence_transformers) (0.19.4)\n",
      "Requirement already satisfied: typing-extensions>=4.5.0 in ./.venv/lib/python3.11/site-packages (from llama-cpp-python) (4.8.0)\n",
      "Requirement already satisfied: diskcache>=5.6.1 in ./.venv/lib/python3.11/site-packages (from llama-cpp-python) (5.6.3)\n",
      "Requirement already satisfied: uvicorn>=0.22.0 in ./.venv/lib/python3.11/site-packages (from llama-cpp-python[server]) (0.24.0.post1)\n",
      "Requirement already satisfied: fastapi>=0.100.0 in ./.venv/lib/python3.11/site-packages (from llama-cpp-python[server]) (0.104.1)\n",
      "Requirement already satisfied: pydantic-settings>=2.0.1 in ./.venv/lib/python3.11/site-packages (from llama-cpp-python[server]) (2.1.0)\n",
      "Requirement already satisfied: sse-starlette>=1.6.1 in ./.venv/lib/python3.11/site-packages (from llama-cpp-python[server]) (1.8.1)\n",
      "Requirement already satisfied: starlette-context<0.4,>=0.3.6 in ./.venv/lib/python3.11/site-packages (from llama-cpp-python[server]) (0.3.6)\n",
      "Requirement already satisfied: attrs>=17.3.0 in ./.venv/lib/python3.11/site-packages (from aiohttp<4.0.0,>=3.8.3->ragstack-ai) (23.1.0)\n",
      "Requirement already satisfied: multidict<7.0,>=4.5 in ./.venv/lib/python3.11/site-packages (from aiohttp<4.0.0,>=3.8.3->ragstack-ai) (6.0.4)\n",
      "Requirement already satisfied: yarl<2.0,>=1.0 in ./.venv/lib/python3.11/site-packages (from aiohttp<4.0.0,>=3.8.3->ragstack-ai) (1.9.2)\n",
      "Requirement already satisfied: frozenlist>=1.1.1 in ./.venv/lib/python3.11/site-packages (from aiohttp<4.0.0,>=3.8.3->ragstack-ai) (1.4.0)\n",
      "Requirement already satisfied: aiosignal>=1.1.2 in ./.venv/lib/python3.11/site-packages (from aiohttp<4.0.0,>=3.8.3->ragstack-ai) (1.3.1)\n",
      "Requirement already satisfied: idna>=2.8 in ./.venv/lib/python3.11/site-packages (from anyio<4.0->ragstack-ai) (3.4)\n",
      "Requirement already satisfied: sniffio>=1.1 in ./.venv/lib/python3.11/site-packages (from anyio<4.0->ragstack-ai) (1.3.0)\n",
      "Requirement already satisfied: marshmallow<4.0.0,>=3.18.0 in ./.venv/lib/python3.11/site-packages (from dataclasses-json<0.7,>=0.5.7->ragstack-ai) (3.20.1)\n",
      "Requirement already satisfied: typing-inspect<1,>=0.4.0 in ./.venv/lib/python3.11/site-packages (from dataclasses-json<0.7,>=0.5.7->ragstack-ai) (0.9.0)\n",
      "Requirement already satisfied: starlette<0.28.0,>=0.27.0 in ./.venv/lib/python3.11/site-packages (from fastapi>=0.100.0->llama-cpp-python[server]) (0.27.0)\n",
      "Requirement already satisfied: filelock in ./.venv/lib/python3.11/site-packages (from huggingface-hub>=0.4.0->sentence_transformers) (3.13.1)\n",
      "Requirement already satisfied: fsspec>=2023.5.0 in ./.venv/lib/python3.11/site-packages (from huggingface-hub>=0.4.0->sentence_transformers) (2023.10.0)\n",
      "Requirement already satisfied: packaging>=20.9 in ./.venv/lib/python3.11/site-packages (from huggingface-hub>=0.4.0->sentence_transformers) (23.2)\n",
      "Requirement already satisfied: jsonpointer>=1.9 in ./.venv/lib/python3.11/site-packages (from jsonpatch<2.0,>=1.33->ragstack-ai) (2.4)\n",
      "Requirement already satisfied: annotated-types>=0.4.0 in ./.venv/lib/python3.11/site-packages (from pydantic<3,>=1->ragstack-ai) (0.6.0)\n",
      "Requirement already satisfied: pydantic-core==2.14.3 in ./.venv/lib/python3.11/site-packages (from pydantic<3,>=1->ragstack-ai) (2.14.3)\n",
      "Requirement already satisfied: charset-normalizer<4,>=2 in ./.venv/lib/python3.11/site-packages (from requests<3,>=2->ragstack-ai) (3.3.2)\n",
      "Requirement already satisfied: urllib3<3,>=1.21.1 in ./.venv/lib/python3.11/site-packages (from requests<3,>=2->ragstack-ai) (2.1.0)\n",
      "Requirement already satisfied: certifi>=2017.4.17 in ./.venv/lib/python3.11/site-packages (from requests<3,>=2->ragstack-ai) (2023.11.17)\n",
      "Requirement already satisfied: regex>=2022.1.18 in ./.venv/lib/python3.11/site-packages (from tiktoken<0.6.0,>=0.3.2->ragstack-ai) (2023.10.3)\n",
      "Requirement already satisfied: sympy in ./.venv/lib/python3.11/site-packages (from torch>=1.6.0->sentence_transformers) (1.12)\n",
      "Requirement already satisfied: networkx in ./.venv/lib/python3.11/site-packages (from torch>=1.6.0->sentence_transformers) (3.2.1)\n",
      "Requirement already satisfied: jinja2 in ./.venv/lib/python3.11/site-packages (from torch>=1.6.0->sentence_transformers) (3.1.2)\n",
      "Requirement already satisfied: tokenizers<0.19,>=0.14 in ./.venv/lib/python3.11/site-packages (from transformers<5.0.0,>=4.6.0->sentence_transformers) (0.15.0)\n",
      "Requirement already satisfied: safetensors>=0.3.1 in ./.venv/lib/python3.11/site-packages (from transformers<5.0.0,>=4.6.0->sentence_transformers) (0.4.0)\n",
      "Requirement already satisfied: click>=7.0 in ./.venv/lib/python3.11/site-packages (from uvicorn>=0.22.0->llama-cpp-python[server]) (8.1.7)\n",
      "Requirement already satisfied: h11>=0.8 in ./.venv/lib/python3.11/site-packages (from uvicorn>=0.22.0->llama-cpp-python[server]) (0.14.0)\n",
      "Requirement already satisfied: joblib in ./.venv/lib/python3.11/site-packages (from nltk->sentence_transformers) (1.3.2)\n",
      "Requirement already satisfied: threadpoolctl>=2.0.0 in ./.venv/lib/python3.11/site-packages (from scikit-learn->sentence_transformers) (3.2.0)\n",
      "Requirement already satisfied: pillow!=8.3.*,>=5.3.0 in ./.venv/lib/python3.11/site-packages (from torchvision->sentence_transformers) (10.1.0)\n",
      "Requirement already satisfied: cassandra-driver>=3.28.0 in ./.venv/lib/python3.11/site-packages (from cassio~=0.1.3->astrapy==0.5.8->ragstack-ai) (3.28.0)\n",
      "Requirement already satisfied: python-dateutil>=2.4 in ./.venv/lib/python3.11/site-packages (from faker~=19.11.0->astrapy==0.5.8->ragstack-ai) (2.8.2)\n",
      "Requirement already satisfied: cfgv>=2.0.0 in ./.venv/lib/python3.11/site-packages (from pre-commit~=3.5.0->astrapy==0.5.8->ragstack-ai) (3.4.0)\n",
      "Requirement already satisfied: identify>=1.0.0 in ./.venv/lib/python3.11/site-packages (from pre-commit~=3.5.0->astrapy==0.5.8->ragstack-ai) (2.5.32)\n",
      "Requirement already satisfied: nodeenv>=0.11.1 in ./.venv/lib/python3.11/site-packages (from pre-commit~=3.5.0->astrapy==0.5.8->ragstack-ai) (1.8.0)\n",
      "Requirement already satisfied: virtualenv>=20.10.0 in ./.venv/lib/python3.11/site-packages (from pre-commit~=3.5.0->astrapy==0.5.8->ragstack-ai) (20.24.6)\n",
      "Requirement already satisfied: iniconfig in ./.venv/lib/python3.11/site-packages (from pytest~=7.4.2->astrapy==0.5.8->ragstack-ai) (2.0.0)\n",
      "Requirement already satisfied: pluggy<2.0,>=0.12 in ./.venv/lib/python3.11/site-packages (from pytest~=7.4.2->astrapy==0.5.8->ragstack-ai) (1.3.0)\n",
      "Requirement already satisfied: coverage>=5.2.1 in ./.venv/lib/python3.11/site-packages (from coverage[toml]>=5.2.1->pytest-cov~=4.1.0->astrapy==0.5.8->ragstack-ai) (7.3.2)\n",
      "Requirement already satisfied: mypy-extensions>=0.3.0 in ./.venv/lib/python3.11/site-packages (from typing-inspect<1,>=0.4.0->dataclasses-json<0.7,>=0.5.7->ragstack-ai) (1.0.0)\n",
      "Requirement already satisfied: MarkupSafe>=2.0 in ./.venv/lib/python3.11/site-packages (from jinja2->torch>=1.6.0->sentence_transformers) (2.1.3)\n",
      "Requirement already satisfied: mpmath>=0.19 in ./.venv/lib/python3.11/site-packages (from sympy->torch>=1.6.0->sentence_transformers) (1.3.0)\n",
      "Requirement already satisfied: six>=1.9 in ./.venv/lib/python3.11/site-packages (from cassandra-driver>=3.28.0->cassio~=0.1.3->astrapy==0.5.8->ragstack-ai) (1.16.0)\n",
      "Requirement already satisfied: geomet<0.3,>=0.1 in ./.venv/lib/python3.11/site-packages (from cassandra-driver>=3.28.0->cassio~=0.1.3->astrapy==0.5.8->ragstack-ai) (0.2.1.post1)\n",
      "Requirement already satisfied: setuptools in ./.venv/lib/python3.11/site-packages (from nodeenv>=0.11.1->pre-commit~=3.5.0->astrapy==0.5.8->ragstack-ai) (68.2.2)\n",
      "Requirement already satisfied: distlib<1,>=0.3.7 in ./.venv/lib/python3.11/site-packages (from virtualenv>=20.10.0->pre-commit~=3.5.0->astrapy==0.5.8->ragstack-ai) (0.3.7)\n",
      "Requirement already satisfied: platformdirs<4,>=3.9.1 in ./.venv/lib/python3.11/site-packages (from virtualenv>=20.10.0->pre-commit~=3.5.0->astrapy==0.5.8->ragstack-ai) (3.11.0)\n"
     ]
    }
   ],
   "source": [
    "!pip3 install ragstack-ai sentence_transformers llama-cpp-python 'llama-cpp-python[server]'"
   ]
  },
  {
   "cell_type": "markdown",
   "metadata": {},
   "source": [
    "Download CodeLlama modeL:"
   ]
  },
  {
   "cell_type": "code",
   "execution_count": 9,
   "metadata": {},
   "outputs": [
    {
     "name": "stdout",
     "output_type": "stream",
     "text": [
      "--2023-11-20 11:00:42--  https://huggingface.co/TheBloke/CodeLlama-7B-GGUF/resolve/main/codellama-7b.Q4_0.gguf\n",
      "Resolving huggingface.co (huggingface.co)... 18.165.25.13, 18.165.25.36, 18.165.25.68, ...\n",
      "Connecting to huggingface.co (huggingface.co)|18.165.25.13|:443... connected.\n",
      "HTTP request sent, awaiting response... 302 Found\n",
      "Location: https://cdn-lfs.huggingface.co/repos/a1/bc/a1bc01d06501363cc1e896351e68c216246329910db0d64e0b5f6dfa55223d00/33052f6dd41436db2f83bd48017b6fff8ce0184e15a8a227368b4230f1da97b5?response-content-disposition=attachment%3B+filename*%3DUTF-8%27%27codellama-7b.Q4_0.gguf%3B+filename%3D%22codellama-7b.Q4_0.gguf%22%3B&Expires=1700755242&Policy=eyJTdGF0ZW1lbnQiOlt7IkNvbmRpdGlvbiI6eyJEYXRlTGVzc1RoYW4iOnsiQVdTOkVwb2NoVGltZSI6MTcwMDc1NTI0Mn19LCJSZXNvdXJjZSI6Imh0dHBzOi8vY2RuLWxmcy5odWdnaW5nZmFjZS5jby9yZXBvcy9hMS9iYy9hMWJjMDFkMDY1MDEzNjNjYzFlODk2MzUxZTY4YzIxNjI0NjMyOTkxMGRiMGQ2NGUwYjVmNmRmYTU1MjIzZDAwLzMzMDUyZjZkZDQxNDM2ZGIyZjgzYmQ0ODAxN2I2ZmZmOGNlMDE4NGUxNWE4YTIyNzM2OGI0MjMwZjFkYTk3YjU%7EcmVzcG9uc2UtY29udGVudC1kaXNwb3NpdGlvbj0qIn1dfQ__&Signature=G7Almfq6Q2znNG7MFsA4ZNAcHiLMXMIwa5WPIor7w2y%7ENPpS9oaMpvlyRe6zxoIufms5ZlhNdzyNyqY0tky5jY8ztb2jtN51C%7EiKOVRZ3GK2%7EzcIq%7EVN2m5mYE7ObLJa%7EC8QbQ5quxPesK6UcpFwUy-ZptVXp8LZpdpWwfPgpK1CZx8WrEZJgguYoENHtGXsUwS%7EpMzwMuEwpgtCtOHYusA29IyZvekB6iMoBESOSXgJsdb4Pzr9%7EyQxteylNdkeuTP-WB%7Eapugu-tEf9jtTt-Zaa72NCqpmfZhrnlo2hyri8tu1EuyOQHbnBY105ZIzGseUGNzWs%7EJADkaeufQ9TQ__&Key-Pair-Id=KVTP0A1DKRTAX [following]\n",
      "--2023-11-20 11:00:42--  https://cdn-lfs.huggingface.co/repos/a1/bc/a1bc01d06501363cc1e896351e68c216246329910db0d64e0b5f6dfa55223d00/33052f6dd41436db2f83bd48017b6fff8ce0184e15a8a227368b4230f1da97b5?response-content-disposition=attachment%3B+filename*%3DUTF-8%27%27codellama-7b.Q4_0.gguf%3B+filename%3D%22codellama-7b.Q4_0.gguf%22%3B&Expires=1700755242&Policy=eyJTdGF0ZW1lbnQiOlt7IkNvbmRpdGlvbiI6eyJEYXRlTGVzc1RoYW4iOnsiQVdTOkVwb2NoVGltZSI6MTcwMDc1NTI0Mn19LCJSZXNvdXJjZSI6Imh0dHBzOi8vY2RuLWxmcy5odWdnaW5nZmFjZS5jby9yZXBvcy9hMS9iYy9hMWJjMDFkMDY1MDEzNjNjYzFlODk2MzUxZTY4YzIxNjI0NjMyOTkxMGRiMGQ2NGUwYjVmNmRmYTU1MjIzZDAwLzMzMDUyZjZkZDQxNDM2ZGIyZjgzYmQ0ODAxN2I2ZmZmOGNlMDE4NGUxNWE4YTIyNzM2OGI0MjMwZjFkYTk3YjU%7EcmVzcG9uc2UtY29udGVudC1kaXNwb3NpdGlvbj0qIn1dfQ__&Signature=G7Almfq6Q2znNG7MFsA4ZNAcHiLMXMIwa5WPIor7w2y%7ENPpS9oaMpvlyRe6zxoIufms5ZlhNdzyNyqY0tky5jY8ztb2jtN51C%7EiKOVRZ3GK2%7EzcIq%7EVN2m5mYE7ObLJa%7EC8QbQ5quxPesK6UcpFwUy-ZptVXp8LZpdpWwfPgpK1CZx8WrEZJgguYoENHtGXsUwS%7EpMzwMuEwpgtCtOHYusA29IyZvekB6iMoBESOSXgJsdb4Pzr9%7EyQxteylNdkeuTP-WB%7Eapugu-tEf9jtTt-Zaa72NCqpmfZhrnlo2hyri8tu1EuyOQHbnBY105ZIzGseUGNzWs%7EJADkaeufQ9TQ__&Key-Pair-Id=KVTP0A1DKRTAX\n",
      "Resolving cdn-lfs.huggingface.co (cdn-lfs.huggingface.co)... 18.165.25.2, 18.165.25.109, 18.165.25.37, ...\n",
      "Connecting to cdn-lfs.huggingface.co (cdn-lfs.huggingface.co)|18.165.25.2|:443... connected.\n",
      "HTTP request sent, awaiting response... 200 OK\n",
      "Length: 3825898176 (3.6G) [binary/octet-stream]\n",
      "Saving to: ‘codellama-7b.Q4_0.gguf.1’\n",
      "\n",
      "codellama-7b.Q4_0.g 100%[===================>]   3.56G  13.0MB/s    in 4m 28s  \n",
      "\n",
      "2023-11-20 11:05:11 (13.6 MB/s) - ‘codellama-7b.Q4_0.gguf.1’ saved [3825898176/3825898176]\n",
      "\n"
     ]
    }
   ],
   "source": [
    "!wget https://huggingface.co/TheBloke/CodeLlama-7B-GGUF/resolve/main/codellama-7b.Q4_0.gguf"
   ]
  },
  {
   "cell_type": "markdown",
   "metadata": {},
   "source": [
    "Export the path to your local LLM model.\n",
    "For more on managing GGUF models, see [](link)."
   ]
  },
  {
   "cell_type": "code",
   "execution_count": null,
   "metadata": {},
   "outputs": [],
   "source": [
    "export MODEL=./codellama-7b.Q4_0.gguf"
   ]
  },
  {
   "cell_type": "markdown",
   "metadata": {},
   "source": [
    "Start a local Llama2 server.\n",
    "It will be served at http://localhost:8000/.\n",
    "n_gpu_layers = 0 to use just CPU."
   ]
  },
  {
   "cell_type": "code",
   "execution_count": 11,
   "metadata": {},
   "outputs": [
    {
     "ename": "SyntaxError",
     "evalue": "invalid syntax (2409523322.py, line 1)",
     "output_type": "error",
     "traceback": [
      "\u001b[0;36m  Cell \u001b[0;32mIn[11], line 1\u001b[0;36m\u001b[0m\n\u001b[0;31m    python3 -m llama_cpp.server --model \"./codellama-7b.Q4_0.gguf\" --n_gpu_layers 1\u001b[0m\n\u001b[0m               ^\u001b[0m\n\u001b[0;31mSyntaxError\u001b[0m\u001b[0;31m:\u001b[0m invalid syntax\n"
     ]
    }
   ],
   "source": [
    "python3 -m llama_cpp.server --model $MODEL --n_gpu_layers 1"
   ]
  },
  {
   "cell_type": "markdown",
   "metadata": {},
   "source": [
    "Visit http://localhost:8000/docs to see the Swagger UI for your server."
   ]
  }
 ],
 "metadata": {
  "kernelspec": {
   "display_name": "Python 3",
   "language": "python",
   "name": "python3"
  },
  "language_info": {
   "codemirror_mode": {
    "name": "ipython",
    "version": 3
   },
   "file_extension": ".py",
   "mimetype": "text/x-python",
   "name": "python",
   "nbconvert_exporter": "python",
   "pygments_lexer": "ipython3",
   "version": "3.11.6"
  }
 },
 "nbformat": 4,
 "nbformat_minor": 2
}
