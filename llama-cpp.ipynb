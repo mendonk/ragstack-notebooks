{
 "cells": [
  {
   "cell_type": "markdown",
   "metadata": {},
   "source": [
    "# Llama-cpp-python\n",
    "\n",
    "Create a local Llama2 server, embed documents, and chat with them."
   ]
  },
  {
   "cell_type": "markdown",
   "metadata": {},
   "source": [
    "Install RAGStack and additional dependencies."
   ]
  },
  {
   "cell_type": "code",
   "execution_count": 68,
   "metadata": {},
   "outputs": [
    {
     "name": "stdout",
     "output_type": "stream",
     "text": [
      "Requirement already satisfied: ragstack-ai in ./.venv/lib/python3.11/site-packages (0.1.0)\n",
      "Requirement already satisfied: llama-cpp-python in ./.venv/lib/python3.11/site-packages (0.2.18)\n",
      "Requirement already satisfied: PyYAML>=5.3 in ./.venv/lib/python3.11/site-packages (from ragstack-ai) (6.0.1)\n",
      "Requirement already satisfied: SQLAlchemy<3,>=1.4 in ./.venv/lib/python3.11/site-packages (from ragstack-ai) (2.0.23)\n",
      "Requirement already satisfied: aiohttp<4.0.0,>=3.8.3 in ./.venv/lib/python3.11/site-packages (from ragstack-ai) (3.9.0)\n",
      "Requirement already satisfied: anyio<4.0 in ./.venv/lib/python3.11/site-packages (from ragstack-ai) (3.7.1)\n",
      "Requirement already satisfied: astrapy==0.5.8 in ./.venv/lib/python3.11/site-packages (from ragstack-ai) (0.5.8)\n",
      "Requirement already satisfied: dataclasses-json<0.7,>=0.5.7 in ./.venv/lib/python3.11/site-packages (from ragstack-ai) (0.6.2)\n",
      "Requirement already satisfied: jsonpatch<2.0,>=1.33 in ./.venv/lib/python3.11/site-packages (from ragstack-ai) (1.33)\n",
      "Requirement already satisfied: numpy<2,>=1 in ./.venv/lib/python3.11/site-packages (from ragstack-ai) (1.26.2)\n",
      "Requirement already satisfied: openai<1,>=0 in ./.venv/lib/python3.11/site-packages (from ragstack-ai) (0.28.1)\n",
      "Requirement already satisfied: pydantic<3,>=1 in ./.venv/lib/python3.11/site-packages (from ragstack-ai) (2.5.1)\n",
      "Requirement already satisfied: pytest-subtests<0.12.0,>=0.11.0 in ./.venv/lib/python3.11/site-packages (from ragstack-ai) (0.11.0)\n",
      "Requirement already satisfied: requests<3,>=2 in ./.venv/lib/python3.11/site-packages (from ragstack-ai) (2.31.0)\n",
      "Requirement already satisfied: tenacity<9.0.0,>=8.1.0 in ./.venv/lib/python3.11/site-packages (from ragstack-ai) (8.2.3)\n",
      "Requirement already satisfied: tiktoken<0.6.0,>=0.3.2 in ./.venv/lib/python3.11/site-packages (from ragstack-ai) (0.5.1)\n",
      "Requirement already satisfied: faker~=19.11.0 in ./.venv/lib/python3.11/site-packages (from astrapy==0.5.8->ragstack-ai) (19.11.1)\n",
      "Requirement already satisfied: pytest~=7.4.2 in ./.venv/lib/python3.11/site-packages (from astrapy==0.5.8->ragstack-ai) (7.4.3)\n",
      "Requirement already satisfied: pytest-cov~=4.1.0 in ./.venv/lib/python3.11/site-packages (from astrapy==0.5.8->ragstack-ai) (4.1.0)\n",
      "Requirement already satisfied: pytest-testdox~=3.1.0 in ./.venv/lib/python3.11/site-packages (from astrapy==0.5.8->ragstack-ai) (3.1.0)\n",
      "Requirement already satisfied: requests-toolbelt~=1.0.0 in ./.venv/lib/python3.11/site-packages (from astrapy==0.5.8->ragstack-ai) (1.0.0)\n",
      "Requirement already satisfied: python-dotenv~=1.0.0 in ./.venv/lib/python3.11/site-packages (from astrapy==0.5.8->ragstack-ai) (1.0.0)\n",
      "Requirement already satisfied: pre-commit~=3.5.0 in ./.venv/lib/python3.11/site-packages (from astrapy==0.5.8->ragstack-ai) (3.5.0)\n",
      "Requirement already satisfied: cassio~=0.1.3 in ./.venv/lib/python3.11/site-packages (from astrapy==0.5.8->ragstack-ai) (0.1.3)\n",
      "Requirement already satisfied: typing-extensions>=4.5.0 in ./.venv/lib/python3.11/site-packages (from llama-cpp-python) (4.8.0)\n",
      "Requirement already satisfied: diskcache>=5.6.1 in ./.venv/lib/python3.11/site-packages (from llama-cpp-python) (5.6.3)\n",
      "Requirement already satisfied: uvicorn>=0.22.0 in ./.venv/lib/python3.11/site-packages (from llama-cpp-python[server]) (0.24.0.post1)\n",
      "Requirement already satisfied: fastapi>=0.100.0 in ./.venv/lib/python3.11/site-packages (from llama-cpp-python[server]) (0.104.1)\n",
      "Requirement already satisfied: pydantic-settings>=2.0.1 in ./.venv/lib/python3.11/site-packages (from llama-cpp-python[server]) (2.1.0)\n",
      "Requirement already satisfied: sse-starlette>=1.6.1 in ./.venv/lib/python3.11/site-packages (from llama-cpp-python[server]) (1.8.1)\n",
      "Requirement already satisfied: starlette-context<0.4,>=0.3.6 in ./.venv/lib/python3.11/site-packages (from llama-cpp-python[server]) (0.3.6)\n",
      "Requirement already satisfied: attrs>=17.3.0 in ./.venv/lib/python3.11/site-packages (from aiohttp<4.0.0,>=3.8.3->ragstack-ai) (23.1.0)\n",
      "Requirement already satisfied: multidict<7.0,>=4.5 in ./.venv/lib/python3.11/site-packages (from aiohttp<4.0.0,>=3.8.3->ragstack-ai) (6.0.4)\n",
      "Requirement already satisfied: yarl<2.0,>=1.0 in ./.venv/lib/python3.11/site-packages (from aiohttp<4.0.0,>=3.8.3->ragstack-ai) (1.9.2)\n",
      "Requirement already satisfied: frozenlist>=1.1.1 in ./.venv/lib/python3.11/site-packages (from aiohttp<4.0.0,>=3.8.3->ragstack-ai) (1.4.0)\n",
      "Requirement already satisfied: aiosignal>=1.1.2 in ./.venv/lib/python3.11/site-packages (from aiohttp<4.0.0,>=3.8.3->ragstack-ai) (1.3.1)\n",
      "Requirement already satisfied: idna>=2.8 in ./.venv/lib/python3.11/site-packages (from anyio<4.0->ragstack-ai) (3.4)\n",
      "Requirement already satisfied: sniffio>=1.1 in ./.venv/lib/python3.11/site-packages (from anyio<4.0->ragstack-ai) (1.3.0)\n",
      "Requirement already satisfied: marshmallow<4.0.0,>=3.18.0 in ./.venv/lib/python3.11/site-packages (from dataclasses-json<0.7,>=0.5.7->ragstack-ai) (3.20.1)\n",
      "Requirement already satisfied: typing-inspect<1,>=0.4.0 in ./.venv/lib/python3.11/site-packages (from dataclasses-json<0.7,>=0.5.7->ragstack-ai) (0.9.0)\n",
      "Requirement already satisfied: starlette<0.28.0,>=0.27.0 in ./.venv/lib/python3.11/site-packages (from fastapi>=0.100.0->llama-cpp-python[server]) (0.27.0)\n",
      "Requirement already satisfied: jsonpointer>=1.9 in ./.venv/lib/python3.11/site-packages (from jsonpatch<2.0,>=1.33->ragstack-ai) (2.4)\n",
      "Requirement already satisfied: tqdm in ./.venv/lib/python3.11/site-packages (from openai<1,>=0->ragstack-ai) (4.66.1)\n",
      "Requirement already satisfied: annotated-types>=0.4.0 in ./.venv/lib/python3.11/site-packages (from pydantic<3,>=1->ragstack-ai) (0.6.0)\n",
      "Requirement already satisfied: pydantic-core==2.14.3 in ./.venv/lib/python3.11/site-packages (from pydantic<3,>=1->ragstack-ai) (2.14.3)\n",
      "Requirement already satisfied: charset-normalizer<4,>=2 in ./.venv/lib/python3.11/site-packages (from requests<3,>=2->ragstack-ai) (3.3.2)\n",
      "Requirement already satisfied: urllib3<3,>=1.21.1 in ./.venv/lib/python3.11/site-packages (from requests<3,>=2->ragstack-ai) (2.1.0)\n",
      "Requirement already satisfied: certifi>=2017.4.17 in ./.venv/lib/python3.11/site-packages (from requests<3,>=2->ragstack-ai) (2023.11.17)\n",
      "Requirement already satisfied: regex>=2022.1.18 in ./.venv/lib/python3.11/site-packages (from tiktoken<0.6.0,>=0.3.2->ragstack-ai) (2023.10.3)\n",
      "Requirement already satisfied: click>=7.0 in ./.venv/lib/python3.11/site-packages (from uvicorn>=0.22.0->llama-cpp-python[server]) (8.1.7)\n",
      "Requirement already satisfied: h11>=0.8 in ./.venv/lib/python3.11/site-packages (from uvicorn>=0.22.0->llama-cpp-python[server]) (0.14.0)\n",
      "Requirement already satisfied: cassandra-driver>=3.28.0 in ./.venv/lib/python3.11/site-packages (from cassio~=0.1.3->astrapy==0.5.8->ragstack-ai) (3.28.0)\n",
      "Requirement already satisfied: python-dateutil>=2.4 in ./.venv/lib/python3.11/site-packages (from faker~=19.11.0->astrapy==0.5.8->ragstack-ai) (2.8.2)\n",
      "Requirement already satisfied: packaging>=17.0 in ./.venv/lib/python3.11/site-packages (from marshmallow<4.0.0,>=3.18.0->dataclasses-json<0.7,>=0.5.7->ragstack-ai) (23.2)\n",
      "Requirement already satisfied: cfgv>=2.0.0 in ./.venv/lib/python3.11/site-packages (from pre-commit~=3.5.0->astrapy==0.5.8->ragstack-ai) (3.4.0)\n",
      "Requirement already satisfied: identify>=1.0.0 in ./.venv/lib/python3.11/site-packages (from pre-commit~=3.5.0->astrapy==0.5.8->ragstack-ai) (2.5.32)\n",
      "Requirement already satisfied: nodeenv>=0.11.1 in ./.venv/lib/python3.11/site-packages (from pre-commit~=3.5.0->astrapy==0.5.8->ragstack-ai) (1.8.0)\n",
      "Requirement already satisfied: virtualenv>=20.10.0 in ./.venv/lib/python3.11/site-packages (from pre-commit~=3.5.0->astrapy==0.5.8->ragstack-ai) (20.24.6)\n",
      "Requirement already satisfied: iniconfig in ./.venv/lib/python3.11/site-packages (from pytest~=7.4.2->astrapy==0.5.8->ragstack-ai) (2.0.0)\n",
      "Requirement already satisfied: pluggy<2.0,>=0.12 in ./.venv/lib/python3.11/site-packages (from pytest~=7.4.2->astrapy==0.5.8->ragstack-ai) (1.3.0)\n",
      "Requirement already satisfied: coverage>=5.2.1 in ./.venv/lib/python3.11/site-packages (from coverage[toml]>=5.2.1->pytest-cov~=4.1.0->astrapy==0.5.8->ragstack-ai) (7.3.2)\n",
      "Requirement already satisfied: mypy-extensions>=0.3.0 in ./.venv/lib/python3.11/site-packages (from typing-inspect<1,>=0.4.0->dataclasses-json<0.7,>=0.5.7->ragstack-ai) (1.0.0)\n",
      "Requirement already satisfied: six>=1.9 in ./.venv/lib/python3.11/site-packages (from cassandra-driver>=3.28.0->cassio~=0.1.3->astrapy==0.5.8->ragstack-ai) (1.16.0)\n",
      "Requirement already satisfied: geomet<0.3,>=0.1 in ./.venv/lib/python3.11/site-packages (from cassandra-driver>=3.28.0->cassio~=0.1.3->astrapy==0.5.8->ragstack-ai) (0.2.1.post1)\n",
      "Requirement already satisfied: setuptools in ./.venv/lib/python3.11/site-packages (from nodeenv>=0.11.1->pre-commit~=3.5.0->astrapy==0.5.8->ragstack-ai) (68.2.2)\n",
      "Requirement already satisfied: distlib<1,>=0.3.7 in ./.venv/lib/python3.11/site-packages (from virtualenv>=20.10.0->pre-commit~=3.5.0->astrapy==0.5.8->ragstack-ai) (0.3.7)\n",
      "Requirement already satisfied: filelock<4,>=3.12.2 in ./.venv/lib/python3.11/site-packages (from virtualenv>=20.10.0->pre-commit~=3.5.0->astrapy==0.5.8->ragstack-ai) (3.13.1)\n",
      "Requirement already satisfied: platformdirs<4,>=3.9.1 in ./.venv/lib/python3.11/site-packages (from virtualenv>=20.10.0->pre-commit~=3.5.0->astrapy==0.5.8->ragstack-ai) (3.11.0)\n"
     ]
    }
   ],
   "source": [
    "!pip3 install ragstack-ai llama-cpp-python 'llama-cpp-python[server]'"
   ]
  },
  {
   "cell_type": "markdown",
   "metadata": {},
   "source": [
    "Download CodeLlama modeL:"
   ]
  },
  {
   "cell_type": "code",
   "execution_count": 69,
   "metadata": {},
   "outputs": [
    {
     "name": "stdout",
     "output_type": "stream",
     "text": [
      "Requirement already satisfied: llama-cpp-python in ./.venv/lib/python3.11/site-packages (0.2.18)\n",
      "Requirement already satisfied: typing-extensions>=4.5.0 in ./.venv/lib/python3.11/site-packages (from llama-cpp-python) (4.8.0)\n",
      "Requirement already satisfied: numpy>=1.20.0 in ./.venv/lib/python3.11/site-packages (from llama-cpp-python) (1.26.2)\n",
      "Requirement already satisfied: diskcache>=5.6.1 in ./.venv/lib/python3.11/site-packages (from llama-cpp-python) (5.6.3)\n"
     ]
    }
   ],
   "source": [
    "!CMAKE_ARGS=\"-DLLAMA_CUBLAS=on\" FORCE_CMAKE=1 pip install llama-cpp-python"
   ]
  },
  {
   "cell_type": "markdown",
   "metadata": {},
   "source": [
    "Export the path to your local LLM model.\n",
    "For more on managing GGUF models, see [](link)."
   ]
  },
  {
   "cell_type": "code",
   "execution_count": 70,
   "metadata": {},
   "outputs": [],
   "source": [
    "\n",
    "#export MODEL=models/codellama-7b.Q4_0.gguf\n",
    "\n",
    "#from llama_cpp import Llama\n",
    "#llm = Llama(\n",
    "#  model_path=\"models/7B/codellama-7b.Q4_0.gguf\",\n",
    "#  n_gpu_layers=1,\n",
    "#)"
   ]
  },
  {
   "cell_type": "markdown",
   "metadata": {},
   "source": [
    "Start a local Llama server.\n",
    "It will be served at http://localhost:8000/.\n",
    "\n",
    "n_gpu_layers = 0 to use just CPU."
   ]
  },
  {
   "cell_type": "code",
   "execution_count": 71,
   "metadata": {},
   "outputs": [
    {
     "ename": "OSError",
     "evalue": "Background processes not supported.",
     "output_type": "error",
     "traceback": [
      "\u001b[0;31m---------------------------------------------------------------------------\u001b[0m",
      "\u001b[0;31mOSError\u001b[0m                                   Traceback (most recent call last)",
      "\u001b[1;32m/Users/mendon.kissling/Documents/GitHub/ragstack-notebooks/llama-cpp.ipynb Cell 9\u001b[0m line \u001b[0;36m1\n\u001b[0;32m----> <a href='vscode-notebook-cell:/Users/mendon.kissling/Documents/GitHub/ragstack-notebooks/llama-cpp.ipynb#X12sZmlsZQ%3D%3D?line=0'>1</a>\u001b[0m get_ipython()\u001b[39m.\u001b[39;49msystem(\u001b[39m'\u001b[39;49m\u001b[39mpython3 -m llama_cpp.server --model models/7B/codellama-7b.Q4_0.gguf --n_gpu_layers 1 &\u001b[39;49m\u001b[39m'\u001b[39;49m)\n",
      "File \u001b[0;32m~/Documents/GitHub/ragstack-notebooks/.venv/lib/python3.11/site-packages/ipykernel/zmqshell.py:642\u001b[0m, in \u001b[0;36mZMQInteractiveShell.system_piped\u001b[0;34m(self, cmd)\u001b[0m\n\u001b[1;32m    635\u001b[0m \u001b[39mif\u001b[39;00m cmd\u001b[39m.\u001b[39mrstrip()\u001b[39m.\u001b[39mendswith(\u001b[39m\"\u001b[39m\u001b[39m&\u001b[39m\u001b[39m\"\u001b[39m):\n\u001b[1;32m    636\u001b[0m     \u001b[39m# this is *far* from a rigorous test\u001b[39;00m\n\u001b[1;32m    637\u001b[0m     \u001b[39m# We do not support backgrounding processes because we either use\u001b[39;00m\n\u001b[1;32m    638\u001b[0m     \u001b[39m# pexpect or pipes to read from.  Users can always just call\u001b[39;00m\n\u001b[1;32m    639\u001b[0m     \u001b[39m# os.system() or use ip.system=ip.system_raw\u001b[39;00m\n\u001b[1;32m    640\u001b[0m     \u001b[39m# if they really want a background process.\u001b[39;00m\n\u001b[1;32m    641\u001b[0m     msg \u001b[39m=\u001b[39m \u001b[39m\"\u001b[39m\u001b[39mBackground processes not supported.\u001b[39m\u001b[39m\"\u001b[39m\n\u001b[0;32m--> 642\u001b[0m     \u001b[39mraise\u001b[39;00m \u001b[39mOSError\u001b[39;00m(msg)\n\u001b[1;32m    644\u001b[0m \u001b[39m# we explicitly do NOT return the subprocess status code, because\u001b[39;00m\n\u001b[1;32m    645\u001b[0m \u001b[39m# a non-None value would trigger :func:`sys.displayhook` calls.\u001b[39;00m\n\u001b[1;32m    646\u001b[0m \u001b[39m# Instead, we store the exit_code in user_ns.\u001b[39;00m\n\u001b[1;32m    647\u001b[0m \u001b[39m# Also, protect system call from UNC paths on Windows here too\u001b[39;00m\n\u001b[1;32m    648\u001b[0m \u001b[39m# as is done in InteractiveShell.system_raw\u001b[39;00m\n\u001b[1;32m    649\u001b[0m \u001b[39mif\u001b[39;00m sys\u001b[39m.\u001b[39mplatform \u001b[39m==\u001b[39m \u001b[39m\"\u001b[39m\u001b[39mwin32\u001b[39m\u001b[39m\"\u001b[39m:\n",
      "\u001b[0;31mOSError\u001b[0m: Background processes not supported."
     ]
    }
   ],
   "source": [
    "!python3 -m llama_cpp.server --model models/7B/codellama-7b.Q4_0.gguf --n_gpu_layers 1 &"
   ]
  },
  {
   "cell_type": "markdown",
   "metadata": {},
   "source": [
    "Visit http://localhost:8000/docs to see the Swagger UI for your server."
   ]
  },
  {
   "cell_type": "markdown",
   "metadata": {},
   "source": [
    "Post a question to the chat completions endpoint:"
   ]
  },
  {
   "cell_type": "code",
   "execution_count": null,
   "metadata": {},
   "outputs": [],
   "source": [
    "curl -X 'POST' \\\n",
    "  'http://localhost:8000/v1/chat/completions' \\\n",
    "  -H 'accept: application/json' \\\n",
    "  -H 'Content-Type: application/json' \\\n",
    "  -d '{\n",
    "  \"messages\": [\n",
    "    {\n",
    "      \"content\": \"You are a helpful assistant.\",\n",
    "      \"role\": \"system\"\n",
    "    },\n",
    "    {\n",
    "      \"content\": \"How do I compile Llama.cpp locally?\",\n",
    "      \"role\": \"user\"\n",
    "    }\n",
    "  ]\n",
    "}'"
   ]
  }
 ],
 "metadata": {
  "kernelspec": {
   "display_name": "Python 3",
   "language": "python",
   "name": "python3"
  },
  "language_info": {
   "codemirror_mode": {
    "name": "ipython",
    "version": 3
   },
   "file_extension": ".py",
   "mimetype": "text/x-python",
   "name": "python",
   "nbconvert_exporter": "python",
   "pygments_lexer": "ipython3",
   "version": "3.11.6"
  }
 },
 "nbformat": 4,
 "nbformat_minor": 2
}
